{
  "nbformat": 4,
  "nbformat_minor": 0,
  "metadata": {
    "colab": {
      "name": "Python Basics(KN)",
      "provenance": [],
      "authorship_tag": "ABX9TyMiDM+ZkTjJfrS41lBExdwP",
      "include_colab_link": true
    },
    "kernelspec": {
      "name": "python3",
      "display_name": "Python 3"
    },
    "language_info": {
      "name": "python"
    }
  },
  "cells": [
    {
      "cell_type": "markdown",
      "metadata": {
        "id": "view-in-github",
        "colab_type": "text"
      },
      "source": [
        "<a href=\"https://colab.research.google.com/github/Monisha09-ds/-/blob/main/Python_Basics(KN).ipynb\" target=\"_parent\"><img src=\"https://colab.research.google.com/assets/colab-badge.svg\" alt=\"Open In Colab\"/></a>"
      ]
    },
    {
      "cell_type": "markdown",
      "source": [
        "**FUNCTIONS:**"
      ],
      "metadata": {
        "id": "vMSWFEJu1olY"
      }
    },
    {
      "cell_type": "code",
      "source": [
        "def welcome():\n",
        "  return (\"Welcomne to the world of functions using Python\")\n",
        "\n",
        "welcome()"
      ],
      "metadata": {
        "colab": {
          "base_uri": "https://localhost:8080/",
          "height": 35
        },
        "id": "DVNPXvs31ttg",
        "outputId": "d14e1ae7-bf25-4cf0-d040-860e10442ad0"
      },
      "execution_count": 1,
      "outputs": [
        {
          "output_type": "execute_result",
          "data": {
            "text/plain": [
              "'Welcomne to the world of functions using Python'"
            ],
            "application/vnd.google.colaboratory.intrinsic+json": {
              "type": "string"
            }
          },
          "metadata": {},
          "execution_count": 1
        }
      ]
    },
    {
      "cell_type": "code",
      "source": [
        "def welcome():\n",
        "  return \"Welcome to the world of functions using Python\"\n",
        "\n",
        "welcome()"
      ],
      "metadata": {
        "colab": {
          "base_uri": "https://localhost:8080/",
          "height": 35
        },
        "id": "lmwQLDDj19T2",
        "outputId": "fb7004af-cb92-49a2-ca30-71bef9ab6d9f"
      },
      "execution_count": 2,
      "outputs": [
        {
          "output_type": "execute_result",
          "data": {
            "text/plain": [
              "'Welcomne to the world of functions using Python'"
            ],
            "application/vnd.google.colaboratory.intrinsic+json": {
              "type": "string"
            }
          },
          "metadata": {},
          "execution_count": 2
        }
      ]
    },
    {
      "cell_type": "code",
      "source": [
        "def welcome():\n",
        "  \"\"\"\n",
        "   DES= Practicing the use of Functions\n",
        "\n",
        "   Return = Functions\n",
        "  \"\"\"\n",
        "\n",
        "\n",
        "  return \"Welcome to the functions with Krish naik\"\n",
        "\n",
        "print(welcome() + \"Plz Subscribe\")"
      ],
      "metadata": {
        "colab": {
          "base_uri": "https://localhost:8080/"
        },
        "id": "hPD3v-Gg1-Pg",
        "outputId": "ff595383-1ae5-449c-c78b-8334178636b3"
      },
      "execution_count": 9,
      "outputs": [
        {
          "output_type": "stream",
          "name": "stdout",
          "text": [
            "Welcome to the functions with Krish naikPlz Subscribe\n"
          ]
        }
      ]
    },
    {
      "cell_type": "markdown",
      "source": [
        "*Parameterized Functions*"
      ],
      "metadata": {
        "id": "ySLjd89b3y3a"
      }
    },
    {
      "cell_type": "code",
      "source": [
        "def para_Function(a,b):\n",
        "  # a= int(input(\"Enter the first num : \"))\n",
        "  # b= int(input(\"Enter the first num : \"))\n",
        "\n",
        "  sum=a+b;\n",
        "  sub=a-b;\n",
        "  mul=a*b;\n",
        "  po=a**b;\n",
        "  div=a%b;\n",
        "\n",
        "  return sum,sub,mul,po,div;\n",
        "\n",
        "a= int(input(\"Enter the first num : \"))\n",
        "b= int(input(\"Enter the first num : \"))\n",
        "\n",
        "para_Function(a,b)"
      ],
      "metadata": {
        "colab": {
          "base_uri": "https://localhost:8080/"
        },
        "id": "wMVPPSIl2xL-",
        "outputId": "05a60a49-5927-4ebc-a050-7d846a6ccd7e"
      },
      "execution_count": 13,
      "outputs": [
        {
          "name": "stdout",
          "output_type": "stream",
          "text": [
            "Enter the first num : 4\n",
            "Enter the first num : 2\n"
          ]
        },
        {
          "output_type": "execute_result",
          "data": {
            "text/plain": [
              "(6, 2, 8, 16, 0)"
            ]
          },
          "metadata": {},
          "execution_count": 13
        }
      ]
    },
    {
      "cell_type": "code",
      "source": [
        "def even_odd_sum(lst):\n",
        "  even_sum=0;\n",
        "  odd_sum=0;\n",
        "  for i in (lst):\n",
        "    if(i%2==0):\n",
        "      even_sum+=i\n",
        "    else:\n",
        "      odd_sum+=i\n",
        "\n",
        "    return even_sum,odd_sum\n",
        "\n",
        "lst=list([1,2,3,45,6,677,7,8,8,54,4,3,5,6])\n",
        "sum_e,sum_o=even_odd_sum(lst)\n",
        "print(sum_e,sum_o)"
      ],
      "metadata": {
        "colab": {
          "base_uri": "https://localhost:8080/"
        },
        "id": "FcfgySUi34dk",
        "outputId": "6b944d61-1dce-4fd2-eb74-d5a99e1dd1f1"
      },
      "execution_count": 22,
      "outputs": [
        {
          "output_type": "stream",
          "name": "stdout",
          "text": [
            "0 1\n"
          ]
        }
      ]
    },
    {
      "cell_type": "markdown",
      "source": [
        "**POsitional_arguement in Functions**"
      ],
      "metadata": {
        "id": "S9lSYRe3AHzW"
      }
    },
    {
      "cell_type": "code",
      "source": [
        "def hello(name,age):\n",
        "  return (\"Hello All,\" + \" My name is \" + name +\" and I am \" +str(age) + \"years Old\")\n",
        "\n",
        "hello(\"krish\",35)"
      ],
      "metadata": {
        "colab": {
          "base_uri": "https://localhost:8080/",
          "height": 35
        },
        "id": "aMGdVDae34gU",
        "outputId": "39f02e98-7ca4-4ab5-91f1-c461fac9064b"
      },
      "execution_count": 25,
      "outputs": [
        {
          "output_type": "execute_result",
          "data": {
            "text/plain": [
              "'Hello All My name is krish and I am 35years Old'"
            ],
            "application/vnd.google.colaboratory.intrinsic+json": {
              "type": "string"
            }
          },
          "metadata": {},
          "execution_count": 25
        }
      ]
    },
    {
      "cell_type": "markdown",
      "source": [
        ""
      ],
      "metadata": {
        "id": "FVWNaQh7AHDo"
      }
    },
    {
      "cell_type": "code",
      "source": [
        "def hello(*args,**kargs):\n",
        "  print(args)\n",
        "  print(kargs)\n",
        "\n",
        "hello(\"Krish\",age=35)"
      ],
      "metadata": {
        "colab": {
          "base_uri": "https://localhost:8080/"
        },
        "id": "wF2WVFZF34jI",
        "outputId": "b1a44ec3-e266-4539-8f93-4ff2b732545c"
      },
      "execution_count": 29,
      "outputs": [
        {
          "output_type": "stream",
          "name": "stdout",
          "text": [
            "('Krish',)\n",
            "{'age': 35}\n"
          ]
        }
      ]
    },
    {
      "cell_type": "code",
      "source": [
        "def hello(*args,**kargs):\n",
        "  print(args)\n",
        "  print(kargs)\n",
        "  # return (\"Hello All,\" + \" My name is \" + *args +\" and I am \" +str(**kargs) + \"years Old\")\n",
        "hello(\"Krish\",age=35)\n"
      ],
      "metadata": {
        "colab": {
          "base_uri": "https://localhost:8080/"
        },
        "id": "QZ2Zo5gV34mB",
        "outputId": "ea7f7f6f-4d7a-41b2-ca97-7581daf7f733"
      },
      "execution_count": 33,
      "outputs": [
        {
          "output_type": "stream",
          "name": "stdout",
          "text": [
            "('Krish',)\n",
            "{'age': 35}\n"
          ]
        }
      ]
    },
    {
      "cell_type": "code",
      "source": [
        ""
      ],
      "metadata": {
        "id": "uUZBSxSz34pb"
      },
      "execution_count": null,
      "outputs": []
    }
  ]
}