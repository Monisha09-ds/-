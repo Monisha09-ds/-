{
  "nbformat": 4,
  "nbformat_minor": 0,
  "metadata": {
    "colab": {
      "name": "Python Basics(KN)",
      "provenance": [],
      "authorship_tag": "ABX9TyPJYobo+cy67bTjm+TBWYjx",
      "include_colab_link": true
    },
    "kernelspec": {
      "name": "python3",
      "display_name": "Python 3"
    },
    "language_info": {
      "name": "python"
    }
  },
  "cells": [
    {
      "cell_type": "markdown",
      "metadata": {
        "id": "view-in-github",
        "colab_type": "text"
      },
      "source": [
        "<a href=\"https://colab.research.google.com/github/Monisha09-ds/-/blob/main/Python_Basics(KN).ipynb\" target=\"_parent\"><img src=\"https://colab.research.google.com/assets/colab-badge.svg\" alt=\"Open In Colab\"/></a>"
      ]
    },
    {
      "cell_type": "markdown",
      "source": [
        "**FUNCTIONS:**"
      ],
      "metadata": {
        "id": "vMSWFEJu1olY"
      }
    },
    {
      "cell_type": "code",
      "source": [
        "def welcome():\n",
        "  return (\"Welcomne to the world of functions using Python\")\n",
        "\n",
        "welcome()"
      ],
      "metadata": {
        "colab": {
          "base_uri": "https://localhost:8080/",
          "height": 35
        },
        "id": "DVNPXvs31ttg",
        "outputId": "d14e1ae7-bf25-4cf0-d040-860e10442ad0"
      },
      "execution_count": null,
      "outputs": [
        {
          "output_type": "execute_result",
          "data": {
            "text/plain": [
              "'Welcomne to the world of functions using Python'"
            ],
            "application/vnd.google.colaboratory.intrinsic+json": {
              "type": "string"
            }
          },
          "metadata": {},
          "execution_count": 1
        }
      ]
    },
    {
      "cell_type": "code",
      "source": [
        "def welcome():\n",
        "  return \"Welcome to the world of functions using Python\"\n",
        "\n",
        "welcome()"
      ],
      "metadata": {
        "colab": {
          "base_uri": "https://localhost:8080/",
          "height": 35
        },
        "id": "lmwQLDDj19T2",
        "outputId": "fb7004af-cb92-49a2-ca30-71bef9ab6d9f"
      },
      "execution_count": null,
      "outputs": [
        {
          "output_type": "execute_result",
          "data": {
            "text/plain": [
              "'Welcomne to the world of functions using Python'"
            ],
            "application/vnd.google.colaboratory.intrinsic+json": {
              "type": "string"
            }
          },
          "metadata": {},
          "execution_count": 2
        }
      ]
    },
    {
      "cell_type": "code",
      "source": [
        "def welcome():\n",
        "  \"\"\"\n",
        "   DES= Practicing the use of Functions\n",
        "\n",
        "   Return = Functions\n",
        "  \"\"\"\n",
        "\n",
        "\n",
        "  return \"Welcome to the functions with Krish naik\"\n",
        "\n",
        "print(welcome() + \"Plz Subscribe\")"
      ],
      "metadata": {
        "colab": {
          "base_uri": "https://localhost:8080/"
        },
        "id": "hPD3v-Gg1-Pg",
        "outputId": "ff595383-1ae5-449c-c78b-8334178636b3"
      },
      "execution_count": null,
      "outputs": [
        {
          "output_type": "stream",
          "name": "stdout",
          "text": [
            "Welcome to the functions with Krish naikPlz Subscribe\n"
          ]
        }
      ]
    },
    {
      "cell_type": "markdown",
      "source": [
        "*Parameterized Functions*"
      ],
      "metadata": {
        "id": "ySLjd89b3y3a"
      }
    },
    {
      "cell_type": "code",
      "source": [
        "def para_Function(a,b):\n",
        "  # a= int(input(\"Enter the first num : \"))\n",
        "  # b= int(input(\"Enter the first num : \"))\n",
        "\n",
        "  sum=a+b;\n",
        "  sub=a-b;\n",
        "  mul=a*b;\n",
        "  po=a**b;\n",
        "  div=a%b;\n",
        "\n",
        "  return sum,sub,mul,po,div;\n",
        "\n",
        "a= int(input(\"Enter the first num : \"))\n",
        "b= int(input(\"Enter the first num : \"))\n",
        "\n",
        "para_Function(a,b)"
      ],
      "metadata": {
        "colab": {
          "base_uri": "https://localhost:8080/"
        },
        "id": "wMVPPSIl2xL-",
        "outputId": "05a60a49-5927-4ebc-a050-7d846a6ccd7e"
      },
      "execution_count": null,
      "outputs": [
        {
          "name": "stdout",
          "output_type": "stream",
          "text": [
            "Enter the first num : 4\n",
            "Enter the first num : 2\n"
          ]
        },
        {
          "output_type": "execute_result",
          "data": {
            "text/plain": [
              "(6, 2, 8, 16, 0)"
            ]
          },
          "metadata": {},
          "execution_count": 13
        }
      ]
    },
    {
      "cell_type": "code",
      "source": [
        "def even_odd_sum(lst):\n",
        "  even_sum=0;\n",
        "  odd_sum=0;\n",
        "  for i in (lst):\n",
        "    if(i%2==0):\n",
        "      even_sum+=i\n",
        "    else:\n",
        "      odd_sum+=i\n",
        "\n",
        "    return even_sum,odd_sum\n",
        "\n",
        "lst=list([1,2,3,45,6,677,7,8,8,54,4,3,5,6])\n",
        "sum_e,sum_o=even_odd_sum(lst)\n",
        "print(sum_e,sum_o)"
      ],
      "metadata": {
        "colab": {
          "base_uri": "https://localhost:8080/"
        },
        "id": "FcfgySUi34dk",
        "outputId": "6b944d61-1dce-4fd2-eb74-d5a99e1dd1f1"
      },
      "execution_count": null,
      "outputs": [
        {
          "output_type": "stream",
          "name": "stdout",
          "text": [
            "0 1\n"
          ]
        }
      ]
    },
    {
      "cell_type": "markdown",
      "source": [
        "**POsitional_arguement in Functions**"
      ],
      "metadata": {
        "id": "S9lSYRe3AHzW"
      }
    },
    {
      "cell_type": "code",
      "source": [
        "def hello(name,age):\n",
        "  return (\"Hello All,\" + \" My name is \" + name +\" and I am \" +str(age) + \"years Old\")\n",
        "\n",
        "hello(\"krish\",35)"
      ],
      "metadata": {
        "colab": {
          "base_uri": "https://localhost:8080/",
          "height": 35
        },
        "id": "aMGdVDae34gU",
        "outputId": "39f02e98-7ca4-4ab5-91f1-c461fac9064b"
      },
      "execution_count": null,
      "outputs": [
        {
          "output_type": "execute_result",
          "data": {
            "text/plain": [
              "'Hello All My name is krish and I am 35years Old'"
            ],
            "application/vnd.google.colaboratory.intrinsic+json": {
              "type": "string"
            }
          },
          "metadata": {},
          "execution_count": 25
        }
      ]
    },
    {
      "cell_type": "markdown",
      "source": [
        ""
      ],
      "metadata": {
        "id": "FVWNaQh7AHDo"
      }
    },
    {
      "cell_type": "code",
      "source": [
        "def hello(*args,**kargs):\n",
        "  print(args)\n",
        "  print(kargs)\n",
        "\n",
        "hello(\"Krish\",age=35)"
      ],
      "metadata": {
        "colab": {
          "base_uri": "https://localhost:8080/"
        },
        "id": "wF2WVFZF34jI",
        "outputId": "b1a44ec3-e266-4539-8f93-4ff2b732545c"
      },
      "execution_count": null,
      "outputs": [
        {
          "output_type": "stream",
          "name": "stdout",
          "text": [
            "('Krish',)\n",
            "{'age': 35}\n"
          ]
        }
      ]
    },
    {
      "cell_type": "code",
      "source": [
        "def hello(*args,**kargs):\n",
        "  print(args)\n",
        "  print(kargs)\n",
        "  # return (\"Hello All,\" + \" My name is \" + *args +\" and I am \" +str(**kargs) + \"years Old\")\n",
        "hello(\"Krish\",age=35)\n"
      ],
      "metadata": {
        "colab": {
          "base_uri": "https://localhost:8080/"
        },
        "id": "QZ2Zo5gV34mB",
        "outputId": "ea7f7f6f-4d7a-41b2-ca97-7581daf7f733"
      },
      "execution_count": null,
      "outputs": [
        {
          "output_type": "stream",
          "name": "stdout",
          "text": [
            "('Krish',)\n",
            "{'age': 35}\n"
          ]
        }
      ]
    },
    {
      "cell_type": "markdown",
      "source": [
        "**Classes:**"
      ],
      "metadata": {
        "id": "5wkJUEEFCIAH"
      }
    },
    {
      "cell_type": "code",
      "source": [
        "class Car:\n",
        "  pass"
      ],
      "metadata": {
        "id": "Y5ZIVdoeCOA6"
      },
      "execution_count": null,
      "outputs": []
    },
    {
      "cell_type": "code",
      "source": [
        "car1=Car()\n",
        "car2=Car()\n",
        "\n",
        "car1.windows=4\n",
        "car1.tyers=4\n",
        "car1.engine=\"disel\"\n",
        "\n",
        "car2.windows=6\n",
        "car2.tyers=6\n",
        "car2.engine=\"petrol\"\n",
        "\n",
        "\n",
        "print(car1.engine)\n",
        "print(car2.engine)\n",
        "\n",
        "print(dir(car1))"
      ],
      "metadata": {
        "colab": {
          "base_uri": "https://localhost:8080/"
        },
        "id": "oudslrZFCODz",
        "outputId": "14c074c0-0c7f-49bf-a337-6d6355fd03e8"
      },
      "execution_count": null,
      "outputs": [
        {
          "output_type": "stream",
          "name": "stdout",
          "text": [
            "disel\n",
            "petrol\n",
            "['__class__', '__delattr__', '__dict__', '__dir__', '__doc__', '__eq__', '__format__', '__ge__', '__getattribute__', '__gt__', '__hash__', '__init__', '__init_subclass__', '__le__', '__lt__', '__module__', '__ne__', '__new__', '__reduce__', '__reduce_ex__', '__repr__', '__setattr__', '__sizeof__', '__str__', '__subclasshook__', '__weakref__', 'engine', 'tyers', 'windows']\n"
          ]
        }
      ]
    },
    {
      "cell_type": "code",
      "source": [
        "class door:\n",
        "  #Constructor\n",
        "  def __init__(self,color,part,knocks):\n",
        "    self.color=color\n",
        "    self.part=part\n",
        "    self.knocks=knocks\n",
        "      \n",
        "d1=door(\"blue\",2,2)\n",
        "d2=door(\"Black\",1,4)\n",
        "\n",
        "print(d2.knocks)\n",
        "\n",
        "print(\"The color of door1 is {} and  it has {} parts contains {} knocks\".format(d1.color,d1.part,d1.knocks))"
      ],
      "metadata": {
        "colab": {
          "base_uri": "https://localhost:8080/"
        },
        "id": "tF2gtiklCOG0",
        "outputId": "44d84253-f87b-488a-933f-70f58e13a353"
      },
      "execution_count": null,
      "outputs": [
        {
          "output_type": "stream",
          "name": "stdout",
          "text": [
            "4\n",
            "The color of door1 is blue and  it has 2 parts contains 2 knocks\n"
          ]
        }
      ]
    },
    {
      "cell_type": "markdown",
      "source": [
        "**Multiple Contructor**"
      ],
      "metadata": {
        "id": "KBxWepcjHkMW"
      }
    },
    {
      "cell_type": "code",
      "source": [
        "class Animal:\n",
        "  def __init__(self,*args):\n",
        "    if(len(args)==1):\n",
        "      self.name=args[0]\n",
        "    elif (len(args)==2):\n",
        "      self.name=args[0]\n",
        "      self.age=args[1]\n",
        "    elif(len(args)==3):\n",
        "      self.name=args[0]\n",
        "      self.age=args[1]\n",
        "      self.species=args[2]\n",
        "\n",
        "      print(\"The animal is {} {} years old that belongs to {} species \".format(self.name,self.age,self.species))\n",
        "\n",
        "dog=Animal(\"dog\",8,\"Mammals\")\n"
      ],
      "metadata": {
        "colab": {
          "base_uri": "https://localhost:8080/"
        },
        "id": "RdgS1AvGCOJ3",
        "outputId": "d273ea42-82de-4a56-b9a6-04f2f01f16aa"
      },
      "execution_count": null,
      "outputs": [
        {
          "output_type": "stream",
          "name": "stdout",
          "text": [
            "The animal is dog 8 years old that belongs to Mammals species \n"
          ]
        }
      ]
    },
    {
      "cell_type": "code",
      "source": [
        ""
      ],
      "metadata": {
        "id": "IVOHvb1CCONY"
      },
      "execution_count": null,
      "outputs": []
    },
    {
      "cell_type": "code",
      "source": [
        "def func():\n",
        "  print(\"abcds\")\n",
        "  print(\"abcd2\")\n",
        "\n",
        "print(\"outside of Function\")"
      ],
      "metadata": {
        "id": "cUp2PEvlolLi",
        "outputId": "b751f2bc-88d3-409a-bb5b-adcc4241f569",
        "colab": {
          "base_uri": "https://localhost:8080/"
        }
      },
      "execution_count": 2,
      "outputs": [
        {
          "output_type": "stream",
          "name": "stdout",
          "text": [
            "outside of Function\n"
          ]
        }
      ]
    },
    {
      "cell_type": "code",
      "source": [
        "func()"
      ],
      "metadata": {
        "id": "pbn78tvKolIC",
        "outputId": "c1311bd1-024e-44ab-8dfc-97f372a0fac1",
        "colab": {
          "base_uri": "https://localhost:8080/"
        }
      },
      "execution_count": 3,
      "outputs": [
        {
          "output_type": "stream",
          "name": "stdout",
          "text": [
            "abcds\n",
            "abcd2\n"
          ]
        }
      ]
    },
    {
      "cell_type": "code",
      "source": [
        "def fun2(x):\n",
        "  return x**x;"
      ],
      "metadata": {
        "id": "EQttVd2bolFA"
      },
      "execution_count": 4,
      "outputs": []
    },
    {
      "cell_type": "code",
      "source": [
        "fun2(3)"
      ],
      "metadata": {
        "id": "QxyQf2uGok2b",
        "outputId": "443e3c72-99ea-4e1d-fb6b-de600caf028f",
        "colab": {
          "base_uri": "https://localhost:8080/"
        }
      },
      "execution_count": 6,
      "outputs": [
        {
          "output_type": "execute_result",
          "data": {
            "text/plain": [
              "27"
            ]
          },
          "metadata": {},
          "execution_count": 6
        }
      ]
    },
    {
      "cell_type": "code",
      "source": [
        ""
      ],
      "metadata": {
        "id": "Th_8f6x7paVb"
      },
      "execution_count": null,
      "outputs": []
    },
    {
      "cell_type": "code",
      "source": [
        ""
      ],
      "metadata": {
        "id": "4ta9gdg7paYk"
      },
      "execution_count": null,
      "outputs": []
    },
    {
      "cell_type": "code",
      "source": [
        ""
      ],
      "metadata": {
        "id": "msiq8DCCpabi"
      },
      "execution_count": null,
      "outputs": []
    },
    {
      "cell_type": "code",
      "source": [
        ""
      ],
      "metadata": {
        "id": "FufuoGmApaeK"
      },
      "execution_count": null,
      "outputs": []
    },
    {
      "cell_type": "code",
      "source": [
        ""
      ],
      "metadata": {
        "id": "amFnQiNqpahj"
      },
      "execution_count": null,
      "outputs": []
    },
    {
      "cell_type": "markdown",
      "source": [
        ""
      ],
      "metadata": {
        "id": "9_27zXULpYtJ"
      }
    },
    {
      "cell_type": "markdown",
      "source": [
        "**BMI CALCULATOR**"
      ],
      "metadata": {
        "id": "S3awGEaVpVj9"
      }
    },
    {
      "cell_type": "code",
      "source": [
        "def bmi_calculator(name,h,w):\n",
        "  bmi=(w)/h**2;\n",
        "  print(\"bmi :\" )\n",
        "  if(bmi<25):\n",
        "    return name + \" not overweight\";\n",
        "  else:\n",
        "    return name +\" overweight\";"
      ],
      "metadata": {
        "id": "nQQ_7TSGpbQj"
      },
      "execution_count": 10,
      "outputs": []
    },
    {
      "cell_type": "code",
      "source": [
        "result=bmi_calculator(\"Monisha\",4.9,80)\n",
        "print(result)"
      ],
      "metadata": {
        "id": "qb4ha2dnpbck",
        "outputId": "f39f61b4-439e-45c9-f481-3b864cef0f18",
        "colab": {
          "base_uri": "https://localhost:8080/"
        }
      },
      "execution_count": 11,
      "outputs": [
        {
          "output_type": "stream",
          "name": "stdout",
          "text": [
            "bmi :\n",
            "Monisha not overweight\n"
          ]
        }
      ]
    },
    {
      "cell_type": "code",
      "source": [
        "def convertion(x):\n",
        "  x_km=float(x*1.6)\n",
        "#   x_km=float(x_km)\n",
        "  return(x ,'km =' , str(x_km) ,'miles')\n",
        "  \n",
        "\n",
        "x=float(input())\n",
        "result=convertion(x)\n",
        "print(result)"
      ],
      "metadata": {
        "id": "rU4uU_J1uWRO"
      },
      "execution_count": null,
      "outputs": []
    }
  ]
}